{
 "cells": [
  {
   "cell_type": "markdown",
   "metadata": {},
   "source": [
    "# ImageCLEF Medical Caption Task 2019\n",
    "\n",
    "The Image CLEF 2019 Concept Detection Task is a large-scale multi-label classification task aiming to identify medical terms (concepts) in radiology images. Implement a system to classify a medical image based on several abnormalities represented by Unified Medical Language System (UMLS) concept IDs.\n",
    "\n",
    "The AUEB NLP Group won the competition with this paper. This assignment was prepared by Vasiliki Kougia and John Pavlopoulos."
   ]
  },
  {
   "cell_type": "code",
   "execution_count": 1,
   "metadata": {},
   "outputs": [
    {
     "name": "stderr",
     "output_type": "stream",
     "text": [
      "Using TensorFlow backend.\n"
     ]
    }
   ],
   "source": [
    "import pandas as pd\n",
    "import matplotlib.pyplot as plt\n",
    "\n",
    "#preferred style\n",
    "plt.style.use('ggplot')\n",
    "\n",
    "import numpy as np\n",
    "import cv2\n",
    "import os\n",
    "import time   # time1 = time.time(); print('Time taken: {:.1f} seconds'.format(time.time() - time1))\n",
    "\n",
    "from IPython.display import display\n",
    "from IPython.display import Image as _Imgdis\n",
    "from PIL import Image\n",
    "import numpy as np\n",
    "\n",
    "import keras\n",
    "from keras.models import Sequential\n",
    "from keras.layers import Dense, Dropout, Flatten, Activation\n",
    "from keras.layers import Conv2D, MaxPooling2D\n",
    "from keras.utils import to_categorical\n",
    "from keras.preprocessing import image"
   ]
  },
  {
   "cell_type": "markdown",
   "metadata": {},
   "source": [
    "Read the labels"
   ]
  },
  {
   "cell_type": "code",
   "execution_count": 2,
   "metadata": {},
   "outputs": [],
   "source": [
    "string_consepts = 'ImageCLEF2019/string_concepts.csv'\n",
    "train_consepts = 'ImageCLEF2019/train_concepts.csv'\n",
    "val_concepts = 'ImageCLEF2019/val_concepts.csv'\n",
    "\n",
    "str_con = pd.read_csv(string_consepts, sep='\\t', header=None)\n",
    "train_con = pd.read_csv(train_consepts)\n",
    "val_con = pd.read_csv(val_concepts)"
   ]
  },
  {
   "cell_type": "code",
   "execution_count": 3,
   "metadata": {},
   "outputs": [
    {
     "data": {
      "text/html": [
       "<div>\n",
       "<style scoped>\n",
       "    .dataframe tbody tr th:only-of-type {\n",
       "        vertical-align: middle;\n",
       "    }\n",
       "\n",
       "    .dataframe tbody tr th {\n",
       "        vertical-align: top;\n",
       "    }\n",
       "\n",
       "    .dataframe thead th {\n",
       "        text-align: right;\n",
       "    }\n",
       "</style>\n",
       "<table border=\"1\" class=\"dataframe\">\n",
       "  <thead>\n",
       "    <tr style=\"text-align: right;\">\n",
       "      <th></th>\n",
       "      <th>image</th>\n",
       "      <th>tags</th>\n",
       "    </tr>\n",
       "  </thead>\n",
       "  <tbody>\n",
       "    <tr>\n",
       "      <td>0</td>\n",
       "      <td>ROCO_CLEF_07350</td>\n",
       "      <td>C0203126;C0203051</td>\n",
       "    </tr>\n",
       "    <tr>\n",
       "      <td>1</td>\n",
       "      <td>ROCO_CLEF_19073</td>\n",
       "      <td>C0772294;C0023884;C0221198;C0412555;C0041618</td>\n",
       "    </tr>\n",
       "    <tr>\n",
       "      <td>2</td>\n",
       "      <td>ROCO_CLEF_60501</td>\n",
       "      <td>C0233492;C2985494;C0262950;C1306232</td>\n",
       "    </tr>\n",
       "    <tr>\n",
       "      <td>3</td>\n",
       "      <td>ROCO_CLEF_05564</td>\n",
       "      <td>C0521530;C0817096</td>\n",
       "    </tr>\n",
       "    <tr>\n",
       "      <td>4</td>\n",
       "      <td>ROCO_CLEF_55020</td>\n",
       "      <td>C0935598;C1184743</td>\n",
       "    </tr>\n",
       "    <tr>\n",
       "      <td>...</td>\n",
       "      <td>...</td>\n",
       "      <td>...</td>\n",
       "    </tr>\n",
       "    <tr>\n",
       "      <td>56624</td>\n",
       "      <td>ROCO_CLEF_40405</td>\n",
       "      <td>C0040395;C0034579;C0015450;C0040405</td>\n",
       "    </tr>\n",
       "    <tr>\n",
       "      <td>56625</td>\n",
       "      <td>ROCO_CLEF_17150</td>\n",
       "      <td>C0286840;C3244287</td>\n",
       "    </tr>\n",
       "    <tr>\n",
       "      <td>56626</td>\n",
       "      <td>ROCO_CLEF_04341</td>\n",
       "      <td>C0699900;C1553386;C0728863;C0182400;C0042779;C...</td>\n",
       "    </tr>\n",
       "    <tr>\n",
       "      <td>56627</td>\n",
       "      <td>ROCO_CLEF_36569</td>\n",
       "      <td>C0023890;C0441633;C3263723</td>\n",
       "    </tr>\n",
       "    <tr>\n",
       "      <td>56628</td>\n",
       "      <td>ROCO_CLEF_51081</td>\n",
       "      <td>C3263723;C1962945;C1548003;C0015252;C0043250;C...</td>\n",
       "    </tr>\n",
       "  </tbody>\n",
       "</table>\n",
       "<p>56629 rows × 2 columns</p>\n",
       "</div>"
      ],
      "text/plain": [
       "                 image                                               tags\n",
       "0      ROCO_CLEF_07350                                  C0203126;C0203051\n",
       "1      ROCO_CLEF_19073       C0772294;C0023884;C0221198;C0412555;C0041618\n",
       "2      ROCO_CLEF_60501                C0233492;C2985494;C0262950;C1306232\n",
       "3      ROCO_CLEF_05564                                  C0521530;C0817096\n",
       "4      ROCO_CLEF_55020                                  C0935598;C1184743\n",
       "...                ...                                                ...\n",
       "56624  ROCO_CLEF_40405                C0040395;C0034579;C0015450;C0040405\n",
       "56625  ROCO_CLEF_17150                                  C0286840;C3244287\n",
       "56626  ROCO_CLEF_04341  C0699900;C1553386;C0728863;C0182400;C0042779;C...\n",
       "56627  ROCO_CLEF_36569                         C0023890;C0441633;C3263723\n",
       "56628  ROCO_CLEF_51081  C3263723;C1962945;C1548003;C0015252;C0043250;C...\n",
       "\n",
       "[56629 rows x 2 columns]"
      ]
     },
     "execution_count": 3,
     "metadata": {},
     "output_type": "execute_result"
    }
   ],
   "source": [
    "train_con"
   ]
  },
  {
   "cell_type": "markdown",
   "metadata": {},
   "source": [
    "Let's plot some images"
   ]
  },
  {
   "cell_type": "code",
   "execution_count": 4,
   "metadata": {},
   "outputs": [],
   "source": [
    "training_set = 'ImageCLEF2019/training-set/'\n",
    "test_set = 'ImageCLEF2019/test-set/'\n",
    "validation_set = 'ImageCLEF2019/validation-set/'"
   ]
  },
  {
   "cell_type": "markdown",
   "metadata": {},
   "source": [
    "* Let's discover some of the training images\n",
    "\n",
    "* What we need is a method that brings the tags given an image"
   ]
  },
  {
   "cell_type": "code",
   "execution_count": 5,
   "metadata": {},
   "outputs": [],
   "source": [
    "# add header to str_con\n",
    "str_con.rename(columns={0: 'tag', 1: 'tag_name'}, inplace=True)"
   ]
  },
  {
   "cell_type": "code",
   "execution_count": 6,
   "metadata": {},
   "outputs": [],
   "source": [
    "# method that grabs all the tag names for the tag string given\n",
    "def fetch_tags(tag):\n",
    "    tags = tag.split(';')\n",
    "    ids = []\n",
    "    names = []\n",
    "    for tag in tags:\n",
    "        ids.append(tag)\n",
    "        index = str_con.loc[str_con.tag == tag]\n",
    "        names.append(index.tag_name.values[0])\n",
    "    return ids, names"
   ]
  },
  {
   "cell_type": "markdown",
   "metadata": {},
   "source": [
    "Let's see some radiology images and the abnormality related to it "
   ]
  },
  {
   "cell_type": "code",
   "execution_count": 7,
   "metadata": {},
   "outputs": [
    {
     "data": {
      "image/png": "[encoded data removed]",
      "text/plain": [
       "<Figure size 1080x1080 with 4 Axes>"
      ]
     },
     "metadata": {},
     "output_type": "display_data"
    }
   ],
   "source": [
    "plt.figure(figsize=(15,15))\n",
    "for index, i in enumerate(os.listdir(training_set)[:4]):\n",
    "    img = cv2.imread(training_set + i,0)\n",
    "    plt.subplot(4,1,index+1)\n",
    "    plt.xticks([])\n",
    "    plt.yticks([])\n",
    "    plt.grid(False)\n",
    "    plt.imshow(img, cmap=plt.cm.binary)\n",
    "    ids, names = fetch_tags(train_con.iloc[index, 1])\n",
    "    _ = plt.title(ids)\n",
    "    _ = plt.xlabel(names)"
   ]
  },
  {
   "cell_type": "code",
   "execution_count": 8,
   "metadata": {},
   "outputs": [],
   "source": [
    "# train = []\n",
    "\n",
    "# time1 = time.time()   # to measure time taken\n",
    "\n",
    "# # Load in the images\n",
    "# for filepath in os.listdir(training_set):\n",
    "#     instances = cv2.imread(training_set + filepath, 0)\n",
    "#     train.append(instances)\n",
    "    \n",
    "# print('Time taken: {:.1f} seconds'.format(time.time() - time1))   # to measure time taken\n",
    "    \n",
    "# # train = np.array(train, dtype=\"float\") / 255.0"
   ]
  },
  {
   "cell_type": "code",
   "execution_count": 9,
   "metadata": {},
   "outputs": [],
   "source": [
    "# test = []\n",
    "\n",
    "# time1 = time.time()   # to measure time taken\n",
    "\n",
    "# # Load in the images\n",
    "# for filepath in os.listdir(test_set):\n",
    "#     instances = cv2.imread(test_set + filepath, 0)\n",
    "#     test.append(instances)\n",
    "    \n",
    "# print('Time taken: {:.1f} seconds'.format(time.time() - time1))   # to measure time taken\n",
    "    \n",
    "# # train = np.array(train, dtype=\"float\") / 255.0"
   ]
  },
  {
   "cell_type": "code",
   "execution_count": 10,
   "metadata": {},
   "outputs": [],
   "source": [
    "# validation_setdation = []\n",
    "\n",
    "# time1 = time.time()   # to measure time taken\n",
    "\n",
    "# # Load in the images\n",
    "# for filepath in os.listdir(validation_set):\n",
    "#     instances = cv2.imread(validation_set + filepath, 0)\n",
    "#     validation.append(instances)\n",
    "    \n",
    "# print('Time taken: {:.1f} seconds'.format(time.time() - time1))   # to measure time taken\n",
    "    \n",
    "# # train = np.array(train, dtype=\"float\") / 255.0"
   ]
  },
  {
   "cell_type": "markdown",
   "metadata": {},
   "source": [
    "### How many tags are there in total?"
   ]
  },
  {
   "cell_type": "markdown",
   "metadata": {},
   "source": [
    "# TODO:\n",
    "* The minimum num-ber of concepts per training image is 1, and the maximum is 72 (according to the paper)"
   ]
  },
  {
   "cell_type": "markdown",
   "metadata": {},
   "source": [
    "#### Training"
   ]
  },
  {
   "cell_type": "code",
   "execution_count": 11,
   "metadata": {},
   "outputs": [],
   "source": [
    "tags = val_con.iloc[:, 1]"
   ]
  },
  {
   "cell_type": "code",
   "execution_count": 12,
   "metadata": {},
   "outputs": [],
   "source": [
    "sum_of_tags = 0\n",
    "for tag in tags:\n",
    "    items = tag.split(';')\n",
    "    sum_of_tags += len(items)    "
   ]
  },
  {
   "cell_type": "code",
   "execution_count": 13,
   "metadata": {},
   "outputs": [
    {
     "data": {
      "text/plain": [
       "86927"
      ]
     },
     "execution_count": 13,
     "metadata": {},
     "output_type": "execute_result"
    }
   ],
   "source": [
    "sum_of_tags"
   ]
  },
  {
   "cell_type": "markdown",
   "metadata": {},
   "source": [
    "which is the most frequent one?"
   ]
  },
  {
   "cell_type": "code",
   "execution_count": 14,
   "metadata": {},
   "outputs": [],
   "source": [
    "# method that counts all the tag_ids and\n",
    "# puts the in a dictionary\n",
    "tag_dic = {}\n",
    "for tag in tags:\n",
    "    items = tag.split(';')\n",
    "    for item in items:\n",
    "        if item not in tag_dic.keys():\n",
    "            tag_dic[item] = 1\n",
    "        else:\n",
    "            tag_dic[item] += 1"
   ]
  },
  {
   "cell_type": "code",
   "execution_count": 15,
   "metadata": {},
   "outputs": [],
   "source": [
    "tag_df = pd.DataFrame.from_dict(tag_dic, orient='index', columns=['tag_count'])"
   ]
  },
  {
   "cell_type": "markdown",
   "metadata": {},
   "source": [
    "get the tag_name column"
   ]
  },
  {
   "cell_type": "code",
   "execution_count": 16,
   "metadata": {},
   "outputs": [
    {
     "data": {
      "text/html": [
       "<div>\n",
       "<style scoped>\n",
       "    .dataframe tbody tr th:only-of-type {\n",
       "        vertical-align: middle;\n",
       "    }\n",
       "\n",
       "    .dataframe tbody tr th {\n",
       "        vertical-align: top;\n",
       "    }\n",
       "\n",
       "    .dataframe thead th {\n",
       "        text-align: right;\n",
       "    }\n",
       "</style>\n",
       "<table border=\"1\" class=\"dataframe\">\n",
       "  <thead>\n",
       "    <tr style=\"text-align: right;\">\n",
       "      <th></th>\n",
       "      <th>tag</th>\n",
       "      <th>tag_name</th>\n",
       "    </tr>\n",
       "  </thead>\n",
       "  <tbody>\n",
       "    <tr>\n",
       "      <td>0</td>\n",
       "      <td>C0032143</td>\n",
       "      <td>r-tpa</td>\n",
       "    </tr>\n",
       "    <tr>\n",
       "      <td>1</td>\n",
       "      <td>C0225516</td>\n",
       "      <td>lower hypopharyngeal region</td>\n",
       "    </tr>\n",
       "    <tr>\n",
       "      <td>2</td>\n",
       "      <td>C0825429</td>\n",
       "      <td>bone surface</td>\n",
       "    </tr>\n",
       "    <tr>\n",
       "      <td>3</td>\n",
       "      <td>C0020461</td>\n",
       "      <td>excessive potassium in the blood</td>\n",
       "    </tr>\n",
       "    <tr>\n",
       "      <td>4</td>\n",
       "      <td>C0947912</td>\n",
       "      <td>proximal muscle weakness due to defect at the ...</td>\n",
       "    </tr>\n",
       "    <tr>\n",
       "      <td>...</td>\n",
       "      <td>...</td>\n",
       "      <td>...</td>\n",
       "    </tr>\n",
       "    <tr>\n",
       "      <td>5523</td>\n",
       "      <td>C0044955</td>\n",
       "      <td>prednylidene (pred)</td>\n",
       "    </tr>\n",
       "    <tr>\n",
       "      <td>5524</td>\n",
       "      <td>C3812869</td>\n",
       "      <td>medicated</td>\n",
       "    </tr>\n",
       "    <tr>\n",
       "      <td>5525</td>\n",
       "      <td>C2751430</td>\n",
       "      <td>camptodactyly and knuckle pads</td>\n",
       "    </tr>\n",
       "    <tr>\n",
       "      <td>5526</td>\n",
       "      <td>C0441621</td>\n",
       "      <td>sampled</td>\n",
       "    </tr>\n",
       "    <tr>\n",
       "      <td>5527</td>\n",
       "      <td>C0237886</td>\n",
       "      <td>sorting</td>\n",
       "    </tr>\n",
       "  </tbody>\n",
       "</table>\n",
       "<p>5528 rows × 2 columns</p>\n",
       "</div>"
      ],
      "text/plain": [
       "           tag                                           tag_name\n",
       "0     C0032143                                              r-tpa\n",
       "1     C0225516                        lower hypopharyngeal region\n",
       "2     C0825429                                       bone surface\n",
       "3     C0020461                   excessive potassium in the blood\n",
       "4     C0947912  proximal muscle weakness due to defect at the ...\n",
       "...        ...                                                ...\n",
       "5523  C0044955                                prednylidene (pred)\n",
       "5524  C3812869                                          medicated\n",
       "5525  C2751430                     camptodactyly and knuckle pads\n",
       "5526  C0441621                                            sampled\n",
       "5527  C0237886                                            sorting\n",
       "\n",
       "[5528 rows x 2 columns]"
      ]
     },
     "execution_count": 16,
     "metadata": {},
     "output_type": "execute_result"
    }
   ],
   "source": [
    "str_con"
   ]
  },
  {
   "cell_type": "code",
   "execution_count": 17,
   "metadata": {},
   "outputs": [],
   "source": [
    "tag_df = pd.merge(tag_df, str_con, left_index=True, right_on='tag', how='inner')"
   ]
  },
  {
   "cell_type": "code",
   "execution_count": 18,
   "metadata": {},
   "outputs": [],
   "source": [
    "tag_df.reset_index(inplace=True)\n",
    "tag_df.drop(columns=['index'], inplace=True)"
   ]
  },
  {
   "cell_type": "code",
   "execution_count": 19,
   "metadata": {},
   "outputs": [],
   "source": [
    "tag_df.sort_values(by=['tag_count'], ascending=False, inplace=True)"
   ]
  },
  {
   "cell_type": "code",
   "execution_count": 20,
   "metadata": {},
   "outputs": [
    {
     "data": {
      "text/html": [
       "<div>\n",
       "<style scoped>\n",
       "    .dataframe tbody tr th:only-of-type {\n",
       "        vertical-align: middle;\n",
       "    }\n",
       "\n",
       "    .dataframe tbody tr th {\n",
       "        vertical-align: top;\n",
       "    }\n",
       "\n",
       "    .dataframe thead th {\n",
       "        text-align: right;\n",
       "    }\n",
       "</style>\n",
       "<table border=\"1\" class=\"dataframe\">\n",
       "  <thead>\n",
       "    <tr style=\"text-align: right;\">\n",
       "      <th></th>\n",
       "      <th>tag_count</th>\n",
       "      <th>tag</th>\n",
       "      <th>tag_name</th>\n",
       "    </tr>\n",
       "  </thead>\n",
       "  <tbody>\n",
       "    <tr>\n",
       "      <td>40</td>\n",
       "      <td>1692</td>\n",
       "      <td>C0441633</td>\n",
       "      <td>diagnostic scanning</td>\n",
       "    </tr>\n",
       "    <tr>\n",
       "      <td>24</td>\n",
       "      <td>1585</td>\n",
       "      <td>C0043299</td>\n",
       "      <td>x-ray procedure</td>\n",
       "    </tr>\n",
       "    <tr>\n",
       "      <td>23</td>\n",
       "      <td>1584</td>\n",
       "      <td>C1962945</td>\n",
       "      <td>radiogr</td>\n",
       "    </tr>\n",
       "    <tr>\n",
       "      <td>18</td>\n",
       "      <td>1489</td>\n",
       "      <td>C0817096</td>\n",
       "      <td>thoracics</td>\n",
       "    </tr>\n",
       "    <tr>\n",
       "      <td>20</td>\n",
       "      <td>1462</td>\n",
       "      <td>C0040395</td>\n",
       "      <td>tomogr</td>\n",
       "    </tr>\n",
       "    <tr>\n",
       "      <td>...</td>\n",
       "      <td>...</td>\n",
       "      <td>...</td>\n",
       "      <td>...</td>\n",
       "    </tr>\n",
       "    <tr>\n",
       "      <td>2341</td>\n",
       "      <td>1</td>\n",
       "      <td>C0159075</td>\n",
       "      <td>milky urine</td>\n",
       "    </tr>\n",
       "    <tr>\n",
       "      <td>2342</td>\n",
       "      <td>1</td>\n",
       "      <td>C0180453</td>\n",
       "      <td>laryngoscope</td>\n",
       "    </tr>\n",
       "    <tr>\n",
       "      <td>2343</td>\n",
       "      <td>1</td>\n",
       "      <td>C0192232</td>\n",
       "      <td>pharyngoscopy</td>\n",
       "    </tr>\n",
       "    <tr>\n",
       "      <td>2344</td>\n",
       "      <td>1</td>\n",
       "      <td>C0023072</td>\n",
       "      <td>laryngoscopies</td>\n",
       "    </tr>\n",
       "    <tr>\n",
       "      <td>3232</td>\n",
       "      <td>1</td>\n",
       "      <td>C0031059</td>\n",
       "      <td>perilympha</td>\n",
       "    </tr>\n",
       "  </tbody>\n",
       "</table>\n",
       "<p>3233 rows × 3 columns</p>\n",
       "</div>"
      ],
      "text/plain": [
       "      tag_count       tag             tag_name\n",
       "40         1692  C0441633  diagnostic scanning\n",
       "24         1585  C0043299      x-ray procedure\n",
       "23         1584  C1962945              radiogr\n",
       "18         1489  C0817096            thoracics\n",
       "20         1462  C0040395               tomogr\n",
       "...         ...       ...                  ...\n",
       "2341          1  C0159075          milky urine\n",
       "2342          1  C0180453         laryngoscope\n",
       "2343          1  C0192232        pharyngoscopy\n",
       "2344          1  C0023072       laryngoscopies\n",
       "3232          1  C0031059           perilympha\n",
       "\n",
       "[3233 rows x 3 columns]"
      ]
     },
     "execution_count": 20,
     "metadata": {},
     "output_type": "execute_result"
    }
   ],
   "source": [
    "tag_df"
   ]
  },
  {
   "cell_type": "code",
   "execution_count": 21,
   "metadata": {},
   "outputs": [],
   "source": [
    "first_ten = tag_df[:10]"
   ]
  },
  {
   "cell_type": "code",
   "execution_count": 22,
   "metadata": {},
   "outputs": [],
   "source": [
    "reverse = first_ten[::-1]"
   ]
  },
  {
   "cell_type": "code",
   "execution_count": 23,
   "metadata": {},
   "outputs": [
    {
     "data": {
      "text/html": [
       "<div>\n",
       "<style scoped>\n",
       "    .dataframe tbody tr th:only-of-type {\n",
       "        vertical-align: middle;\n",
       "    }\n",
       "\n",
       "    .dataframe tbody tr th {\n",
       "        vertical-align: top;\n",
       "    }\n",
       "\n",
       "    .dataframe thead th {\n",
       "        text-align: right;\n",
       "    }\n",
       "</style>\n",
       "<table border=\"1\" class=\"dataframe\">\n",
       "  <thead>\n",
       "    <tr style=\"text-align: right;\">\n",
       "      <th></th>\n",
       "      <th>tag_count</th>\n",
       "      <th>tag</th>\n",
       "      <th>tag_name</th>\n",
       "    </tr>\n",
       "  </thead>\n",
       "  <tbody>\n",
       "    <tr>\n",
       "      <td>88</td>\n",
       "      <td>1165</td>\n",
       "      <td>C0221198</td>\n",
       "      <td>visible lesion</td>\n",
       "    </tr>\n",
       "    <tr>\n",
       "      <td>86</td>\n",
       "      <td>1165</td>\n",
       "      <td>C0772294</td>\n",
       "      <td>alesion</td>\n",
       "    </tr>\n",
       "    <tr>\n",
       "      <td>124</td>\n",
       "      <td>1269</td>\n",
       "      <td>C1548003</td>\n",
       "      <td>radiograph</td>\n",
       "    </tr>\n",
       "    <tr>\n",
       "      <td>21</td>\n",
       "      <td>1363</td>\n",
       "      <td>C0040405</td>\n",
       "      <td>x-ray computer assisted tomography</td>\n",
       "    </tr>\n",
       "    <tr>\n",
       "      <td>16</td>\n",
       "      <td>1437</td>\n",
       "      <td>C0034579</td>\n",
       "      <td>pantomogr</td>\n",
       "    </tr>\n",
       "    <tr>\n",
       "      <td>20</td>\n",
       "      <td>1462</td>\n",
       "      <td>C0040395</td>\n",
       "      <td>tomogr</td>\n",
       "    </tr>\n",
       "    <tr>\n",
       "      <td>18</td>\n",
       "      <td>1489</td>\n",
       "      <td>C0817096</td>\n",
       "      <td>thoracics</td>\n",
       "    </tr>\n",
       "    <tr>\n",
       "      <td>23</td>\n",
       "      <td>1584</td>\n",
       "      <td>C1962945</td>\n",
       "      <td>radiogr</td>\n",
       "    </tr>\n",
       "    <tr>\n",
       "      <td>24</td>\n",
       "      <td>1585</td>\n",
       "      <td>C0043299</td>\n",
       "      <td>x-ray procedure</td>\n",
       "    </tr>\n",
       "    <tr>\n",
       "      <td>40</td>\n",
       "      <td>1692</td>\n",
       "      <td>C0441633</td>\n",
       "      <td>diagnostic scanning</td>\n",
       "    </tr>\n",
       "  </tbody>\n",
       "</table>\n",
       "</div>"
      ],
      "text/plain": [
       "     tag_count       tag                            tag_name\n",
       "88        1165  C0221198                      visible lesion\n",
       "86        1165  C0772294                             alesion\n",
       "124       1269  C1548003                          radiograph\n",
       "21        1363  C0040405  x-ray computer assisted tomography\n",
       "16        1437  C0034579                           pantomogr\n",
       "20        1462  C0040395                              tomogr\n",
       "18        1489  C0817096                           thoracics\n",
       "23        1584  C1962945                             radiogr\n",
       "24        1585  C0043299                     x-ray procedure\n",
       "40        1692  C0441633                 diagnostic scanning"
      ]
     },
     "execution_count": 23,
     "metadata": {},
     "output_type": "execute_result"
    }
   ],
   "source": [
    "reverse"
   ]
  },
  {
   "cell_type": "code",
   "execution_count": 24,
   "metadata": {},
   "outputs": [
    {
     "data": {
      "image/png": "[encoded data removed]",
      "text/plain": [
       "<Figure size 1008x720 with 1 Axes>"
      ]
     },
     "metadata": {
      "needs_background": "light"
     },
     "output_type": "display_data"
    }
   ],
   "source": [
    "MEDIUM_SIZE = 12\n",
    "plt.rc('font', size=MEDIUM_SIZE)     # fontsize of the axes title\n",
    "plt.figure(figsize=[14, 10])\n",
    "_ = plt.barh(reverse.tag_name[:10], width=reverse.tag_count[:10])"
   ]
  },
  {
   "cell_type": "markdown",
   "metadata": {},
   "source": [
    "Lets now create an image generator"
   ]
  },
  {
   "cell_type": "code",
   "execution_count": 25,
   "metadata": {},
   "outputs": [],
   "source": [
    "from tensorflow.keras.preprocessing.image import ImageDataGenerator"
   ]
  },
  {
   "cell_type": "code",
   "execution_count": 26,
   "metadata": {},
   "outputs": [],
   "source": [
    "train_image_generator = ImageDataGenerator(rescale=1./255) # Generator for our training data\n",
    "validation_image_generator = ImageDataGenerator(rescale=1./255) # Generator for our validation data"
   ]
  },
  {
   "cell_type": "code",
   "execution_count": 27,
   "metadata": {},
   "outputs": [],
   "source": [
    "batch_size = 128\n",
    "epochs = 5\n",
    "IMG_HEIGHT = 224\n",
    "IMG_WIDTH = 225"
   ]
  },
  {
   "cell_type": "markdown",
   "metadata": {},
   "source": [
    "## Data Preprocessing\n",
    " "
   ]
  },
  {
   "cell_type": "markdown",
   "metadata": {},
   "source": [
    "We might want to\n",
    "* change the images to filenames\n",
    "* change the train_con tags to a list so the classes are separated"
   ]
  },
  {
   "cell_type": "code",
   "execution_count": 28,
   "metadata": {},
   "outputs": [],
   "source": [
    "train_con_list = train_con.copy()\n",
    "train_con_list['tags'] = train_con_list['tags'].apply(lambda x:x.split(';'))\n",
    "train_con_list['image'] = train_con_list['image'].apply(lambda x:x + ('.jpg'))"
   ]
  },
  {
   "cell_type": "code",
   "execution_count": 29,
   "metadata": {},
   "outputs": [],
   "source": [
    "valid_con_list = val_con.copy()\n",
    "valid_con_list['tags'] = valid_con_list['tags'].apply(lambda x:x.split(';'))\n",
    "valid_con_list['image'] = valid_con_list['image'].apply(lambda x:x + ('.jpg'))"
   ]
  },
  {
   "cell_type": "code",
   "execution_count": 30,
   "metadata": {},
   "outputs": [
    {
     "data": {
      "text/html": [
       "<div>\n",
       "<style scoped>\n",
       "    .dataframe tbody tr th:only-of-type {\n",
       "        vertical-align: middle;\n",
       "    }\n",
       "\n",
       "    .dataframe tbody tr th {\n",
       "        vertical-align: top;\n",
       "    }\n",
       "\n",
       "    .dataframe thead th {\n",
       "        text-align: right;\n",
       "    }\n",
       "</style>\n",
       "<table border=\"1\" class=\"dataframe\">\n",
       "  <thead>\n",
       "    <tr style=\"text-align: right;\">\n",
       "      <th></th>\n",
       "      <th>image</th>\n",
       "      <th>tags</th>\n",
       "    </tr>\n",
       "  </thead>\n",
       "  <tbody>\n",
       "    <tr>\n",
       "      <td>0</td>\n",
       "      <td>ROCO_CLEF_64017.jpg</td>\n",
       "      <td>[C0001074, C3203359, C0041618]</td>\n",
       "    </tr>\n",
       "    <tr>\n",
       "      <td>1</td>\n",
       "      <td>ROCO_CLEF_39073.jpg</td>\n",
       "      <td>[C0027530, C1610719, C0065967, C1704258, C0883...</td>\n",
       "    </tr>\n",
       "    <tr>\n",
       "      <td>2</td>\n",
       "      <td>ROCO_CLEF_18028.jpg</td>\n",
       "      <td>[C1265876, C1293134, C0029053, C0034579, C0025...</td>\n",
       "    </tr>\n",
       "    <tr>\n",
       "      <td>3</td>\n",
       "      <td>ROCO_CLEF_02052.jpg</td>\n",
       "      <td>[C0040426, C1962945, C0043299, C0036849, C0150...</td>\n",
       "    </tr>\n",
       "    <tr>\n",
       "      <td>4</td>\n",
       "      <td>ROCO_CLEF_67927.jpg</td>\n",
       "      <td>[C0184666, C4085643, C4049705, C4049706, C4321...</td>\n",
       "    </tr>\n",
       "  </tbody>\n",
       "</table>\n",
       "</div>"
      ],
      "text/plain": [
       "                 image                                               tags\n",
       "0  ROCO_CLEF_64017.jpg                     [C0001074, C3203359, C0041618]\n",
       "1  ROCO_CLEF_39073.jpg  [C0027530, C1610719, C0065967, C1704258, C0883...\n",
       "2  ROCO_CLEF_18028.jpg  [C1265876, C1293134, C0029053, C0034579, C0025...\n",
       "3  ROCO_CLEF_02052.jpg  [C0040426, C1962945, C0043299, C0036849, C0150...\n",
       "4  ROCO_CLEF_67927.jpg  [C0184666, C4085643, C4049705, C4049706, C4321..."
      ]
     },
     "execution_count": 30,
     "metadata": {},
     "output_type": "execute_result"
    }
   ],
   "source": [
    "valid_con_list.head()"
   ]
  },
  {
   "cell_type": "code",
   "execution_count": 31,
   "metadata": {},
   "outputs": [
    {
     "data": {
      "text/html": [
       "<div>\n",
       "<style scoped>\n",
       "    .dataframe tbody tr th:only-of-type {\n",
       "        vertical-align: middle;\n",
       "    }\n",
       "\n",
       "    .dataframe tbody tr th {\n",
       "        vertical-align: top;\n",
       "    }\n",
       "\n",
       "    .dataframe thead th {\n",
       "        text-align: right;\n",
       "    }\n",
       "</style>\n",
       "<table border=\"1\" class=\"dataframe\">\n",
       "  <thead>\n",
       "    <tr style=\"text-align: right;\">\n",
       "      <th></th>\n",
       "      <th>image</th>\n",
       "      <th>tags</th>\n",
       "    </tr>\n",
       "  </thead>\n",
       "  <tbody>\n",
       "    <tr>\n",
       "      <td>0</td>\n",
       "      <td>ROCO_CLEF_07350.jpg</td>\n",
       "      <td>[C0203126, C0203051]</td>\n",
       "    </tr>\n",
       "    <tr>\n",
       "      <td>1</td>\n",
       "      <td>ROCO_CLEF_19073.jpg</td>\n",
       "      <td>[C0772294, C0023884, C0221198, C0412555, C0041...</td>\n",
       "    </tr>\n",
       "    <tr>\n",
       "      <td>2</td>\n",
       "      <td>ROCO_CLEF_60501.jpg</td>\n",
       "      <td>[C0233492, C2985494, C0262950, C1306232]</td>\n",
       "    </tr>\n",
       "    <tr>\n",
       "      <td>3</td>\n",
       "      <td>ROCO_CLEF_05564.jpg</td>\n",
       "      <td>[C0521530, C0817096]</td>\n",
       "    </tr>\n",
       "    <tr>\n",
       "      <td>4</td>\n",
       "      <td>ROCO_CLEF_55020.jpg</td>\n",
       "      <td>[C0935598, C1184743]</td>\n",
       "    </tr>\n",
       "  </tbody>\n",
       "</table>\n",
       "</div>"
      ],
      "text/plain": [
       "                 image                                               tags\n",
       "0  ROCO_CLEF_07350.jpg                               [C0203126, C0203051]\n",
       "1  ROCO_CLEF_19073.jpg  [C0772294, C0023884, C0221198, C0412555, C0041...\n",
       "2  ROCO_CLEF_60501.jpg           [C0233492, C2985494, C0262950, C1306232]\n",
       "3  ROCO_CLEF_05564.jpg                               [C0521530, C0817096]\n",
       "4  ROCO_CLEF_55020.jpg                               [C0935598, C1184743]"
      ]
     },
     "execution_count": 31,
     "metadata": {},
     "output_type": "execute_result"
    }
   ],
   "source": [
    "train_con_list.head()"
   ]
  },
  {
   "cell_type": "code",
   "execution_count": 32,
   "metadata": {},
   "outputs": [],
   "source": [
    "classes = list(str_con.tag)"
   ]
  },
  {
   "cell_type": "markdown",
   "metadata": {},
   "source": [
    "## Generators"
   ]
  },
  {
   "cell_type": "code",
   "execution_count": 33,
   "metadata": {},
   "outputs": [
    {
     "name": "stdout",
     "output_type": "stream",
     "text": [
      "Found 56629 validated image filenames belonging to 5528 classes.\n"
     ]
    }
   ],
   "source": [
    "train_data_gen = train_image_generator.flow_from_dataframe(dataframe=train_con_list,\n",
    "                                                           directory=training_set,\n",
    "                                                           x_col='image',\n",
    "                                                           y_col='tags',\n",
    "                                                           batch_size=batch_size,\n",
    "                                                           shuffle=True,\n",
    "                                                           target_size=(IMG_HEIGHT, IMG_WIDTH),\n",
    "                                                           class_mode='categorical',\n",
    "                                                           classes=classes,\n",
    "                                                           seed=42)"
   ]
  },
  {
   "cell_type": "code",
   "execution_count": 34,
   "metadata": {},
   "outputs": [
    {
     "name": "stdout",
     "output_type": "stream",
     "text": [
      "Found 14157 validated image filenames belonging to 5528 classes.\n"
     ]
    }
   ],
   "source": [
    "valid_data_gen = validation_image_generator.flow_from_dataframe(dataframe=valid_con_list,\n",
    "                                                           directory=validation_set,\n",
    "                                                           x_col='image',\n",
    "                                                           y_col='tags',\n",
    "                                                           batch_size=batch_size,\n",
    "                                                           shuffle=True,\n",
    "                                                           target_size=(IMG_HEIGHT, IMG_WIDTH),\n",
    "                                                           class_mode='categorical',\n",
    "                                                           classes=classes,\n",
    "                                                           seed=42)"
   ]
  },
  {
   "cell_type": "code",
   "execution_count": 38,
   "metadata": {},
   "outputs": [],
   "source": [
    "model = Sequential([\n",
    "    Conv2D(16, 3, padding='same', activation='relu', input_shape=(IMG_HEIGHT, IMG_WIDTH ,3)),\n",
    "    MaxPooling2D(),\n",
    "    Dropout(0.25),\n",
    "    Conv2D(32, 3, padding='same', activation='relu'),\n",
    "    MaxPooling2D(),\n",
    "    Dropout(0.25),\n",
    "    Conv2D(64, 3, padding='same', activation='relu'),\n",
    "    MaxPooling2D(),\n",
    "    Dropout(0.25),\n",
    "    Flatten(),\n",
    "    Dense(5528, activation='softmax')\n",
    "])\n",
    "\n",
    "model.compile(optimizer='adam',\n",
    "              loss='binary_crossentropy',\n",
    "              metrics=['accuracy'])"
   ]
  },
  {
   "cell_type": "code",
   "execution_count": 39,
   "metadata": {},
   "outputs": [
    {
     "name": "stdout",
     "output_type": "stream",
     "text": [
      "Model: \"sequential_1\"\n",
      "_________________________________________________________________\n",
      "Layer (type)                 Output Shape              Param #   \n",
      "=================================================================\n",
      "conv2d_1 (Conv2D)            (None, 224, 225, 16)      448       \n",
      "_________________________________________________________________\n",
      "max_pooling2d_1 (MaxPooling2 (None, 112, 112, 16)      0         \n",
      "_________________________________________________________________\n",
      "dropout_1 (Dropout)          (None, 112, 112, 16)      0         \n",
      "_________________________________________________________________\n",
      "conv2d_2 (Conv2D)            (None, 112, 112, 32)      4640      \n",
      "_________________________________________________________________\n",
      "max_pooling2d_2 (MaxPooling2 (None, 56, 56, 32)        0         \n",
      "_________________________________________________________________\n",
      "dropout_2 (Dropout)          (None, 56, 56, 32)        0         \n",
      "_________________________________________________________________\n",
      "conv2d_3 (Conv2D)            (None, 56, 56, 64)        18496     \n",
      "_________________________________________________________________\n",
      "max_pooling2d_3 (MaxPooling2 (None, 28, 28, 64)        0         \n",
      "_________________________________________________________________\n",
      "dropout_3 (Dropout)          (None, 28, 28, 64)        0         \n",
      "_________________________________________________________________\n",
      "flatten_1 (Flatten)          (None, 50176)             0         \n",
      "_________________________________________________________________\n",
      "dense_1 (Dense)              (None, 5528)              277378456 \n",
      "=================================================================\n",
      "Total params: 277,402,040\n",
      "Trainable params: 277,402,040\n",
      "Non-trainable params: 0\n",
      "_________________________________________________________________\n"
     ]
    }
   ],
   "source": [
    "model.summary()"
   ]
  },
  {
   "cell_type": "code",
   "execution_count": 40,
   "metadata": {
    "scrolled": false
   },
   "outputs": [
    {
     "name": "stdout",
     "output_type": "stream",
     "text": [
      "Epoch 1/5\n",
      "442/442 [==============================] - 2792s 6s/step - loss: 0.0071 - accuracy: 0.9989 - val_loss: 0.0070 - val_accuracy: 0.9989\n",
      "Epoch 2/5\n",
      "442/442 [==============================] - 3850s 9s/step - loss: 0.0067 - accuracy: 0.9989 - val_loss: 0.0067 - val_accuracy: 0.9989\n",
      "Epoch 3/5\n",
      "442/442 [==============================] - 3480s 8s/step - loss: 0.0062 - accuracy: 0.9989 - val_loss: 0.0065 - val_accuracy: 0.9989\n",
      "Epoch 4/5\n",
      "442/442 [==============================] - 3509s 8s/step - loss: 0.0054 - accuracy: 0.9989 - val_loss: 0.0070 - val_accuracy: 0.9989\n",
      "Epoch 5/5\n",
      "442/442 [==============================] - 3762s 9s/step - loss: 0.0048 - accuracy: 0.9989 - val_loss: 0.0077 - val_accuracy: 0.9989\n"
     ]
    }
   ],
   "source": [
    "STEP_SIZE_TRAIN=train_data_gen.n//train_data_gen.batch_size\n",
    "STEP_SIZE_VALID=valid_data_gen.n//valid_data_gen.batch_size\n",
    "\n",
    "# STEP_SIZE_TRAIN = 3\n",
    "# STEP_SIZE_VALID = 3\n",
    "\n",
    "history = model.fit_generator(\n",
    "    generator=train_data_gen,\n",
    "    steps_per_epoch=STEP_SIZE_TRAIN,\n",
    "    epochs=epochs,\n",
    "    validation_data=valid_data_gen,\n",
    "    validation_steps=STEP_SIZE_VALID\n",
    ")"
   ]
  },
  {
   "cell_type": "code",
   "execution_count": 41,
   "metadata": {},
   "outputs": [],
   "source": [
    "# save model\n",
    "model.save('cnn_v1.h5')"
   ]
  },
  {
   "cell_type": "markdown",
   "metadata": {},
   "source": [
    "## After training"
   ]
  },
  {
   "cell_type": "code",
   "execution_count": 7,
   "metadata": {},
   "outputs": [],
   "source": [
    "import pandas as pd\n",
    "import matplotlib.pyplot as plt\n",
    "\n",
    "#preferred style\n",
    "plt.style.use('ggplot')\n",
    "\n",
    "import numpy as np\n",
    "import cv2\n",
    "import os\n",
    "import time   # time1 = time.time(); print('Time taken: {:.1f} seconds'.format(time.time() - time1))\n",
    "\n",
    "from IPython.display import display\n",
    "from IPython.display import Image as _Imgdis\n",
    "from PIL import Image\n",
    "import numpy as np\n",
    "\n",
    "import keras\n",
    "from keras.models import Sequential\n",
    "from keras.layers import Dense, Dropout, Flatten, Activation\n",
    "from keras.layers import Conv2D, MaxPooling2D\n",
    "from keras.utils import to_categorical\n",
    "from keras.preprocessing import image"
   ]
  },
  {
   "cell_type": "code",
   "execution_count": 35,
   "metadata": {},
   "outputs": [],
   "source": [
    "## load model\n",
    "from keras.models import load_model\n",
    "model = load_model('models/cnn_v1.h5')"
   ]
  },
  {
   "cell_type": "markdown",
   "metadata": {},
   "source": [
    "Trying to create the candidate and ground truth files"
   ]
  },
  {
   "cell_type": "code",
   "execution_count": null,
   "metadata": {},
   "outputs": [],
   "source": []
  },
  {
   "cell_type": "code",
   "execution_count": 36,
   "metadata": {},
   "outputs": [
    {
     "name": "stdout",
     "output_type": "stream",
     "text": [
      "111/111 [==============================] - 143s 1s/step\n"
     ]
    }
   ],
   "source": [
    "# STEP_SIZE_VALID=valid_data_gen.n//valid_data_gen.batch_size\n",
    "\n",
    "pred = model.predict(valid_data_gen, verbose=1)"
   ]
  },
  {
   "cell_type": "code",
   "execution_count": 37,
   "metadata": {},
   "outputs": [
    {
     "data": {
      "text/plain": [
       "(14157, 5528)"
      ]
     },
     "execution_count": 37,
     "metadata": {},
     "output_type": "execute_result"
    }
   ],
   "source": [
    "pred.shape"
   ]
  },
  {
   "cell_type": "code",
   "execution_count": 39,
   "metadata": {},
   "outputs": [
    {
     "data": {
      "text/plain": [
       "(14157, 2)"
      ]
     },
     "execution_count": 39,
     "metadata": {},
     "output_type": "execute_result"
    }
   ],
   "source": [
    "val_con.shape"
   ]
  },
  {
   "cell_type": "code",
   "execution_count": 40,
   "metadata": {},
   "outputs": [],
   "source": [
    "high_pred = (pred > 0.16)"
   ]
  },
  {
   "cell_type": "code",
   "execution_count": 46,
   "metadata": {},
   "outputs": [],
   "source": [
    "pred_df = pd.DataFrame(high_pred)"
   ]
  },
  {
   "cell_type": "code",
   "execution_count": 57,
   "metadata": {},
   "outputs": [],
   "source": [
    "pred_df.columns = classes"
   ]
  },
  {
   "cell_type": "code",
   "execution_count": 74,
   "metadata": {},
   "outputs": [
    {
     "data": {
      "text/html": [
       "<div>\n",
       "<style scoped>\n",
       "    .dataframe tbody tr th:only-of-type {\n",
       "        vertical-align: middle;\n",
       "    }\n",
       "\n",
       "    .dataframe tbody tr th {\n",
       "        vertical-align: top;\n",
       "    }\n",
       "\n",
       "    .dataframe thead th {\n",
       "        text-align: right;\n",
       "    }\n",
       "</style>\n",
       "<table border=\"1\" class=\"dataframe\">\n",
       "  <thead>\n",
       "    <tr style=\"text-align: right;\">\n",
       "      <th></th>\n",
       "      <th>C0032143</th>\n",
       "      <th>C0225516</th>\n",
       "      <th>C0825429</th>\n",
       "      <th>C0020461</th>\n",
       "      <th>C0947912</th>\n",
       "      <th>C0700164</th>\n",
       "      <th>C0935912</th>\n",
       "      <th>C0334467</th>\n",
       "      <th>C0334460</th>\n",
       "      <th>C0040578</th>\n",
       "      <th>...</th>\n",
       "      <th>C0567198</th>\n",
       "      <th>C0553702</th>\n",
       "      <th>C0028945</th>\n",
       "      <th>C1510755</th>\n",
       "      <th>C3151530</th>\n",
       "      <th>C0044955</th>\n",
       "      <th>C3812869</th>\n",
       "      <th>C2751430</th>\n",
       "      <th>C0441621</th>\n",
       "      <th>C0237886</th>\n",
       "    </tr>\n",
       "  </thead>\n",
       "  <tbody>\n",
       "    <tr>\n",
       "      <td>0</td>\n",
       "      <td>False</td>\n",
       "      <td>False</td>\n",
       "      <td>False</td>\n",
       "      <td>False</td>\n",
       "      <td>False</td>\n",
       "      <td>False</td>\n",
       "      <td>False</td>\n",
       "      <td>False</td>\n",
       "      <td>False</td>\n",
       "      <td>False</td>\n",
       "      <td>...</td>\n",
       "      <td>False</td>\n",
       "      <td>False</td>\n",
       "      <td>False</td>\n",
       "      <td>False</td>\n",
       "      <td>False</td>\n",
       "      <td>False</td>\n",
       "      <td>False</td>\n",
       "      <td>False</td>\n",
       "      <td>False</td>\n",
       "      <td>False</td>\n",
       "    </tr>\n",
       "    <tr>\n",
       "      <td>1</td>\n",
       "      <td>False</td>\n",
       "      <td>False</td>\n",
       "      <td>False</td>\n",
       "      <td>False</td>\n",
       "      <td>False</td>\n",
       "      <td>False</td>\n",
       "      <td>False</td>\n",
       "      <td>False</td>\n",
       "      <td>False</td>\n",
       "      <td>False</td>\n",
       "      <td>...</td>\n",
       "      <td>False</td>\n",
       "      <td>False</td>\n",
       "      <td>False</td>\n",
       "      <td>False</td>\n",
       "      <td>False</td>\n",
       "      <td>False</td>\n",
       "      <td>False</td>\n",
       "      <td>False</td>\n",
       "      <td>False</td>\n",
       "      <td>False</td>\n",
       "    </tr>\n",
       "    <tr>\n",
       "      <td>2</td>\n",
       "      <td>False</td>\n",
       "      <td>False</td>\n",
       "      <td>False</td>\n",
       "      <td>False</td>\n",
       "      <td>False</td>\n",
       "      <td>False</td>\n",
       "      <td>False</td>\n",
       "      <td>False</td>\n",
       "      <td>False</td>\n",
       "      <td>False</td>\n",
       "      <td>...</td>\n",
       "      <td>False</td>\n",
       "      <td>False</td>\n",
       "      <td>False</td>\n",
       "      <td>False</td>\n",
       "      <td>False</td>\n",
       "      <td>False</td>\n",
       "      <td>False</td>\n",
       "      <td>False</td>\n",
       "      <td>False</td>\n",
       "      <td>False</td>\n",
       "    </tr>\n",
       "    <tr>\n",
       "      <td>3</td>\n",
       "      <td>False</td>\n",
       "      <td>False</td>\n",
       "      <td>False</td>\n",
       "      <td>False</td>\n",
       "      <td>False</td>\n",
       "      <td>False</td>\n",
       "      <td>False</td>\n",
       "      <td>False</td>\n",
       "      <td>False</td>\n",
       "      <td>False</td>\n",
       "      <td>...</td>\n",
       "      <td>False</td>\n",
       "      <td>False</td>\n",
       "      <td>False</td>\n",
       "      <td>False</td>\n",
       "      <td>False</td>\n",
       "      <td>False</td>\n",
       "      <td>False</td>\n",
       "      <td>False</td>\n",
       "      <td>False</td>\n",
       "      <td>False</td>\n",
       "    </tr>\n",
       "    <tr>\n",
       "      <td>4</td>\n",
       "      <td>False</td>\n",
       "      <td>False</td>\n",
       "      <td>False</td>\n",
       "      <td>False</td>\n",
       "      <td>False</td>\n",
       "      <td>False</td>\n",
       "      <td>False</td>\n",
       "      <td>False</td>\n",
       "      <td>False</td>\n",
       "      <td>False</td>\n",
       "      <td>...</td>\n",
       "      <td>False</td>\n",
       "      <td>False</td>\n",
       "      <td>False</td>\n",
       "      <td>False</td>\n",
       "      <td>False</td>\n",
       "      <td>False</td>\n",
       "      <td>False</td>\n",
       "      <td>False</td>\n",
       "      <td>False</td>\n",
       "      <td>False</td>\n",
       "    </tr>\n",
       "    <tr>\n",
       "      <td>...</td>\n",
       "      <td>...</td>\n",
       "      <td>...</td>\n",
       "      <td>...</td>\n",
       "      <td>...</td>\n",
       "      <td>...</td>\n",
       "      <td>...</td>\n",
       "      <td>...</td>\n",
       "      <td>...</td>\n",
       "      <td>...</td>\n",
       "      <td>...</td>\n",
       "      <td>...</td>\n",
       "      <td>...</td>\n",
       "      <td>...</td>\n",
       "      <td>...</td>\n",
       "      <td>...</td>\n",
       "      <td>...</td>\n",
       "      <td>...</td>\n",
       "      <td>...</td>\n",
       "      <td>...</td>\n",
       "      <td>...</td>\n",
       "      <td>...</td>\n",
       "    </tr>\n",
       "    <tr>\n",
       "      <td>14152</td>\n",
       "      <td>False</td>\n",
       "      <td>False</td>\n",
       "      <td>False</td>\n",
       "      <td>False</td>\n",
       "      <td>False</td>\n",
       "      <td>False</td>\n",
       "      <td>False</td>\n",
       "      <td>False</td>\n",
       "      <td>False</td>\n",
       "      <td>False</td>\n",
       "      <td>...</td>\n",
       "      <td>False</td>\n",
       "      <td>False</td>\n",
       "      <td>False</td>\n",
       "      <td>False</td>\n",
       "      <td>False</td>\n",
       "      <td>False</td>\n",
       "      <td>False</td>\n",
       "      <td>False</td>\n",
       "      <td>False</td>\n",
       "      <td>False</td>\n",
       "    </tr>\n",
       "    <tr>\n",
       "      <td>14153</td>\n",
       "      <td>False</td>\n",
       "      <td>False</td>\n",
       "      <td>False</td>\n",
       "      <td>False</td>\n",
       "      <td>False</td>\n",
       "      <td>False</td>\n",
       "      <td>False</td>\n",
       "      <td>False</td>\n",
       "      <td>False</td>\n",
       "      <td>False</td>\n",
       "      <td>...</td>\n",
       "      <td>False</td>\n",
       "      <td>False</td>\n",
       "      <td>False</td>\n",
       "      <td>False</td>\n",
       "      <td>False</td>\n",
       "      <td>False</td>\n",
       "      <td>False</td>\n",
       "      <td>False</td>\n",
       "      <td>False</td>\n",
       "      <td>False</td>\n",
       "    </tr>\n",
       "    <tr>\n",
       "      <td>14154</td>\n",
       "      <td>False</td>\n",
       "      <td>False</td>\n",
       "      <td>False</td>\n",
       "      <td>False</td>\n",
       "      <td>False</td>\n",
       "      <td>False</td>\n",
       "      <td>False</td>\n",
       "      <td>False</td>\n",
       "      <td>False</td>\n",
       "      <td>False</td>\n",
       "      <td>...</td>\n",
       "      <td>False</td>\n",
       "      <td>False</td>\n",
       "      <td>False</td>\n",
       "      <td>False</td>\n",
       "      <td>False</td>\n",
       "      <td>False</td>\n",
       "      <td>False</td>\n",
       "      <td>False</td>\n",
       "      <td>False</td>\n",
       "      <td>False</td>\n",
       "    </tr>\n",
       "    <tr>\n",
       "      <td>14155</td>\n",
       "      <td>False</td>\n",
       "      <td>False</td>\n",
       "      <td>False</td>\n",
       "      <td>False</td>\n",
       "      <td>False</td>\n",
       "      <td>False</td>\n",
       "      <td>False</td>\n",
       "      <td>False</td>\n",
       "      <td>False</td>\n",
       "      <td>False</td>\n",
       "      <td>...</td>\n",
       "      <td>False</td>\n",
       "      <td>False</td>\n",
       "      <td>False</td>\n",
       "      <td>False</td>\n",
       "      <td>False</td>\n",
       "      <td>False</td>\n",
       "      <td>False</td>\n",
       "      <td>False</td>\n",
       "      <td>False</td>\n",
       "      <td>False</td>\n",
       "    </tr>\n",
       "    <tr>\n",
       "      <td>14156</td>\n",
       "      <td>False</td>\n",
       "      <td>False</td>\n",
       "      <td>False</td>\n",
       "      <td>False</td>\n",
       "      <td>False</td>\n",
       "      <td>False</td>\n",
       "      <td>False</td>\n",
       "      <td>False</td>\n",
       "      <td>False</td>\n",
       "      <td>False</td>\n",
       "      <td>...</td>\n",
       "      <td>False</td>\n",
       "      <td>False</td>\n",
       "      <td>False</td>\n",
       "      <td>False</td>\n",
       "      <td>False</td>\n",
       "      <td>False</td>\n",
       "      <td>False</td>\n",
       "      <td>False</td>\n",
       "      <td>False</td>\n",
       "      <td>False</td>\n",
       "    </tr>\n",
       "  </tbody>\n",
       "</table>\n",
       "<p>14157 rows × 5528 columns</p>\n",
       "</div>"
      ],
      "text/plain": [
       "       C0032143  C0225516  C0825429  C0020461  C0947912  C0700164  C0935912  \\\n",
       "0         False     False     False     False     False     False     False   \n",
       "1         False     False     False     False     False     False     False   \n",
       "2         False     False     False     False     False     False     False   \n",
       "3         False     False     False     False     False     False     False   \n",
       "4         False     False     False     False     False     False     False   \n",
       "...         ...       ...       ...       ...       ...       ...       ...   \n",
       "14152     False     False     False     False     False     False     False   \n",
       "14153     False     False     False     False     False     False     False   \n",
       "14154     False     False     False     False     False     False     False   \n",
       "14155     False     False     False     False     False     False     False   \n",
       "14156     False     False     False     False     False     False     False   \n",
       "\n",
       "       C0334467  C0334460  C0040578  ...  C0567198  C0553702  C0028945  \\\n",
       "0         False     False     False  ...     False     False     False   \n",
       "1         False     False     False  ...     False     False     False   \n",
       "2         False     False     False  ...     False     False     False   \n",
       "3         False     False     False  ...     False     False     False   \n",
       "4         False     False     False  ...     False     False     False   \n",
       "...         ...       ...       ...  ...       ...       ...       ...   \n",
       "14152     False     False     False  ...     False     False     False   \n",
       "14153     False     False     False  ...     False     False     False   \n",
       "14154     False     False     False  ...     False     False     False   \n",
       "14155     False     False     False  ...     False     False     False   \n",
       "14156     False     False     False  ...     False     False     False   \n",
       "\n",
       "       C1510755  C3151530  C0044955  C3812869  C2751430  C0441621  C0237886  \n",
       "0         False     False     False     False     False     False     False  \n",
       "1         False     False     False     False     False     False     False  \n",
       "2         False     False     False     False     False     False     False  \n",
       "3         False     False     False     False     False     False     False  \n",
       "4         False     False     False     False     False     False     False  \n",
       "...         ...       ...       ...       ...       ...       ...       ...  \n",
       "14152     False     False     False     False     False     False     False  \n",
       "14153     False     False     False     False     False     False     False  \n",
       "14154     False     False     False     False     False     False     False  \n",
       "14155     False     False     False     False     False     False     False  \n",
       "14156     False     False     False     False     False     False     False  \n",
       "\n",
       "[14157 rows x 5528 columns]"
      ]
     },
     "execution_count": 74,
     "metadata": {},
     "output_type": "execute_result"
    }
   ],
   "source": [
    "pred_df"
   ]
  },
  {
   "cell_type": "code",
   "execution_count": 75,
   "metadata": {},
   "outputs": [
    {
     "data": {
      "text/plain": [
       "(14157, 5528)"
      ]
     },
     "execution_count": 75,
     "metadata": {},
     "output_type": "execute_result"
    }
   ],
   "source": [
    "pred_df.shape"
   ]
  },
  {
   "cell_type": "markdown",
   "metadata": {},
   "source": [
    "### What I have to do:\n",
    "\n",
    "* get the pred_df and create a file with img+tab+tag1+tag2\n",
    "* test the results"
   ]
  },
  {
   "cell_type": "code",
   "execution_count": 53,
   "metadata": {},
   "outputs": [
    {
     "data": {
      "text/html": [
       "<div>\n",
       "<style scoped>\n",
       "    .dataframe tbody tr th:only-of-type {\n",
       "        vertical-align: middle;\n",
       "    }\n",
       "\n",
       "    .dataframe tbody tr th {\n",
       "        vertical-align: top;\n",
       "    }\n",
       "\n",
       "    .dataframe thead th {\n",
       "        text-align: right;\n",
       "    }\n",
       "</style>\n",
       "<table border=\"1\" class=\"dataframe\">\n",
       "  <thead>\n",
       "    <tr style=\"text-align: right;\">\n",
       "      <th></th>\n",
       "      <th>image</th>\n",
       "      <th>tags</th>\n",
       "    </tr>\n",
       "  </thead>\n",
       "  <tbody>\n",
       "    <tr>\n",
       "      <td>0</td>\n",
       "      <td>ROCO_CLEF_64017</td>\n",
       "      <td>C0001074;C3203359;C0041618</td>\n",
       "    </tr>\n",
       "    <tr>\n",
       "      <td>1</td>\n",
       "      <td>ROCO_CLEF_39073</td>\n",
       "      <td>C0027530;C1610719;C0065967;C1704258;C0883242;C...</td>\n",
       "    </tr>\n",
       "    <tr>\n",
       "      <td>2</td>\n",
       "      <td>ROCO_CLEF_18028</td>\n",
       "      <td>C1265876;C1293134;C0029053;C0034579;C0025066;C...</td>\n",
       "    </tr>\n",
       "    <tr>\n",
       "      <td>3</td>\n",
       "      <td>ROCO_CLEF_02052</td>\n",
       "      <td>C0040426;C1962945;C0043299;C0036849;C0150312</td>\n",
       "    </tr>\n",
       "    <tr>\n",
       "      <td>4</td>\n",
       "      <td>ROCO_CLEF_67927</td>\n",
       "      <td>C0184666;C4085643;C4049705;C4049706;C4321335;C...</td>\n",
       "    </tr>\n",
       "    <tr>\n",
       "      <td>...</td>\n",
       "      <td>...</td>\n",
       "      <td>...</td>\n",
       "    </tr>\n",
       "    <tr>\n",
       "      <td>14152</td>\n",
       "      <td>ROCO_CLEF_08685</td>\n",
       "      <td>C0043299;C1548003;C1962945</td>\n",
       "    </tr>\n",
       "    <tr>\n",
       "      <td>14153</td>\n",
       "      <td>ROCO_CLEF_63867</td>\n",
       "      <td>C1963113;C0040395;C0921176;C0034579;C0525187;C...</td>\n",
       "    </tr>\n",
       "    <tr>\n",
       "      <td>14154</td>\n",
       "      <td>ROCO_CLEF_42562</td>\n",
       "      <td>C0456605;C0023884;C0441633</td>\n",
       "    </tr>\n",
       "    <tr>\n",
       "      <td>14155</td>\n",
       "      <td>ROCO_CLEF_18130</td>\n",
       "      <td>C0009368;C0227391</td>\n",
       "    </tr>\n",
       "    <tr>\n",
       "      <td>14156</td>\n",
       "      <td>ROCO_CLEF_29197</td>\n",
       "      <td>C0042449;C0030274;C0025474;C0018670</td>\n",
       "    </tr>\n",
       "  </tbody>\n",
       "</table>\n",
       "<p>14157 rows × 2 columns</p>\n",
       "</div>"
      ],
      "text/plain": [
       "                 image                                               tags\n",
       "0      ROCO_CLEF_64017                         C0001074;C3203359;C0041618\n",
       "1      ROCO_CLEF_39073  C0027530;C1610719;C0065967;C1704258;C0883242;C...\n",
       "2      ROCO_CLEF_18028  C1265876;C1293134;C0029053;C0034579;C0025066;C...\n",
       "3      ROCO_CLEF_02052       C0040426;C1962945;C0043299;C0036849;C0150312\n",
       "4      ROCO_CLEF_67927  C0184666;C4085643;C4049705;C4049706;C4321335;C...\n",
       "...                ...                                                ...\n",
       "14152  ROCO_CLEF_08685                         C0043299;C1548003;C1962945\n",
       "14153  ROCO_CLEF_63867  C1963113;C0040395;C0921176;C0034579;C0525187;C...\n",
       "14154  ROCO_CLEF_42562                         C0456605;C0023884;C0441633\n",
       "14155  ROCO_CLEF_18130                                  C0009368;C0227391\n",
       "14156  ROCO_CLEF_29197                C0042449;C0030274;C0025474;C0018670\n",
       "\n",
       "[14157 rows x 2 columns]"
      ]
     },
     "execution_count": 53,
     "metadata": {},
     "output_type": "execute_result"
    }
   ],
   "source": [
    "val_con"
   ]
  },
  {
   "cell_type": "code",
   "execution_count": null,
   "metadata": {},
   "outputs": [],
   "source": []
  },
  {
   "cell_type": "code",
   "execution_count": null,
   "metadata": {},
   "outputs": [],
   "source": []
  },
  {
   "cell_type": "markdown",
   "metadata": {},
   "source": [
    "Let's try another model architecture"
   ]
  },
  {
   "cell_type": "code",
   "execution_count": 4,
   "metadata": {},
   "outputs": [],
   "source": [
    "# string_consepts = 'ImageCLEF2019/string_concepts.csv'\n",
    "# train_consepts = 'ImageCLEF2019/train_concepts.csv'\n",
    "# val_concepts = 'ImageCLEF2019/val_concepts.csv'\n",
    "\n",
    "# str_con = pd.read_csv(string_consepts, sep='\\t', header=None)\n",
    "# train_con = pd.read_csv(train_consepts)\n",
    "# val_con = pd.read_csv(val_concepts)"
   ]
  },
  {
   "cell_type": "code",
   "execution_count": 5,
   "metadata": {},
   "outputs": [],
   "source": [
    "# valid_con_list = val_con.copy()\n",
    "# valid_con_list['tags'] = valid_con_list['tags'].apply(lambda x:x.split(';'))\n",
    "# valid_con_list['image'] = valid_con_list['image'].apply(lambda x:x + ('.jpg'))"
   ]
  },
  {
   "cell_type": "code",
   "execution_count": 6,
   "metadata": {},
   "outputs": [],
   "source": [
    "# train_con_list = train_con.copy()\n",
    "# train_con_list['tags'] = train_con_list['tags'].apply(lambda x:x.split(';'))\n",
    "# train_con_list['image'] = train_con_list['image'].apply(lambda x:x + ('.jpg'))"
   ]
  },
  {
   "cell_type": "code",
   "execution_count": null,
   "metadata": {},
   "outputs": [],
   "source": []
  },
  {
   "cell_type": "markdown",
   "metadata": {},
   "source": [
    "Resources:\n",
    "    \n",
    "* https://github.com/JNYH/Project_Kojak\n",
    "* https://medium.com/@vijayabhaskar96/multi-label-image-classification-tutorial-with-keras-imagedatagenerator-cd541f8eaf24"
   ]
  },
  {
   "cell_type": "code",
   "execution_count": null,
   "metadata": {},
   "outputs": [],
   "source": []
  },
  {
   "cell_type": "code",
   "execution_count": null,
   "metadata": {},
   "outputs": [],
   "source": []
  },
  {
   "cell_type": "code",
   "execution_count": null,
   "metadata": {},
   "outputs": [],
   "source": []
  },
  {
   "cell_type": "code",
   "execution_count": null,
   "metadata": {},
   "outputs": [],
   "source": []
  },
  {
   "cell_type": "code",
   "execution_count": null,
   "metadata": {},
   "outputs": [],
   "source": []
  },
  {
   "cell_type": "code",
   "execution_count": null,
   "metadata": {},
   "outputs": [],
   "source": []
  },
  {
   "cell_type": "code",
   "execution_count": null,
   "metadata": {},
   "outputs": [],
   "source": []
  },
  {
   "cell_type": "code",
   "execution_count": null,
   "metadata": {},
   "outputs": [],
   "source": []
  },
  {
   "cell_type": "code",
   "execution_count": null,
   "metadata": {},
   "outputs": [],
   "source": []
  },
  {
   "cell_type": "code",
   "execution_count": null,
   "metadata": {},
   "outputs": [],
   "source": []
  },
  {
   "cell_type": "code",
   "execution_count": null,
   "metadata": {},
   "outputs": [],
   "source": []
  }
 ],
 "metadata": {
  "kernelspec": {
   "display_name": "Python 3",
   "language": "python",
   "name": "python3"
  },
  "language_info": {
   "codemirror_mode": {
    "name": "ipython",
    "version": 3
   },
   "file_extension": ".py",
   "mimetype": "text/x-python",
   "name": "python",
   "nbconvert_exporter": "python",
   "pygments_lexer": "ipython3",
   "version": "3.7.4"
  }
 },
 "nbformat": 4,
 "nbformat_minor": 2
}
